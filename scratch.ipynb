{
 "cells": [
  {
   "cell_type": "code",
   "execution_count": null,
   "metadata": {},
   "outputs": [],
   "source": [
    "import bittensor\n",
    "import random\n",
    "import torch\n",
    "import time"
   ]
  },
  {
   "cell_type": "code",
   "execution_count": null,
   "metadata": {},
   "outputs": [],
   "source": [
    "# Before this step run a pool chain\n",
    "# ./target/release/node-subtensor --dev\n",
    "\n",
    "# Make a subtensor connection to the pool chain.\n",
    "# This is local because we are assuming you ran the chain locally.\n",
    "# In practice you want to run about 10 validators for your pool on pretty beefy machines.\n",
    "poolchain = bittensor.subtensor( network = 'local')\n",
    "poolchain.connect()\n",
    "\n",
    "# Load all the nodes from the pool. Members of this pool will register themselves\n",
    "# onto the pool chain and be discovered by by this endpoint.\n",
    "# bellow we sync with the pool chain.\n",
    "poolgraph = bittensor.metagraph().sync( subtensor = poolchain )"
   ]
  },
  {
   "cell_type": "code",
   "execution_count": null,
   "metadata": {},
   "outputs": [],
   "source": [
    "# Next create a connection to nobunaga, for testing\n",
    "# Fisrt create the wallet key using the cli\n",
    "# btcli new_coldkey --wallet.name poolcoldkey\n",
    "# btcli new_hotkey --wallet.name poolhotkey\n",
    "nobunaga = bittensor.subtensor( network = 'nobunaga' )\n",
    "poolwallet = bittensor.wallet( name = 'poolwallet', hotkey = 'poolhotkey' )\n",
    "\n",
    "# Register the pool wallet to nobunaga\n",
    "poolwallet.register( subtensor = nobunaga )\n",
    "\n",
    "# Register the pool wallet on the poolchain\n",
    "# This does not link these accounts, but it would be great if we could create a bridge programatically\n",
    "# something like wallet.bridge( nobunaga, poolchain )\n",
    "poolwallet.register( subtensor = poolchain )"
   ]
  },
  {
   "cell_type": "code",
   "execution_count": null,
   "metadata": {},
   "outputs": [],
   "source": [
    "# We need an RPC client to forward requests onward.\n",
    "dendrite = bittensor.dendrite( wallet = poolwallet )\n",
    "\n",
    "# We are updating weights for each miner, this is nothing crazy, \n",
    "# we are just going to use a code base scoring.\n",
    "moving_average_delta = 0.9\n",
    "poolscores = torch.zeros_like( poolgraph.stake )"
   ]
  },
  {
   "cell_type": "code",
   "execution_count": null,
   "metadata": {},
   "outputs": [],
   "source": [
    "# Forward is the function that recieves calls from peers on nobunaga\n",
    "def forward_text ( inputs_x ):\n",
    "    # Randomly select a peer from the poolgraph.\n",
    "    # Note that this not weighted, it is purely random.\n",
    "    endpoint = random.choice( poolgraph.endpoints )\n",
    "    \n",
    "    # Query the pool\n",
    "    response, time, code = dendrite.forward_text( inputs = inputs_x, endpoints = endpoint )\n",
    "\n",
    "    # Check code.\n",
    "    # Note that this is purely code based, not time based.\n",
    "    if code.item() == 1: # Success\n",
    "        poolscores[endpoint.uid] = moving_average_delta * poolscores[endpoint.uid] + (1 - moving_average_delta) * 1 # Converges towards 1\n",
    "    else: # Failure\n",
    "        poolscores[endpoint.uid] = moving_average_delta * poolscores[endpoint.uid] + (1 - moving_average_delta) * 0 # Converging towards 0\n",
    "    \n",
    "    # Return the responses\n",
    "    return response"
   ]
  },
  {
   "cell_type": "code",
   "execution_count": null,
   "metadata": {},
   "outputs": [],
   "source": [
    "# Create the axon RPC endpoint\n",
    "axon = bittensor.axon( \n",
    "    wallet = poolwallet,\n",
    "    forward_text = forward_text\n",
    ")\n",
    "\n",
    "# Start the axon RPC endpoint serving the forward function.\n",
    "axon.start()\n",
    "\n",
    "# Tell nobubaga that we exist and can start recieving messages.\n",
    "axon.serve( subtensor = nobunaga )"
   ]
  },
  {
   "cell_type": "code",
   "execution_count": null,
   "metadata": {},
   "outputs": [],
   "source": [
    "\n",
    "# Main loop.\n",
    "sync_every_n_blocks = 10\n",
    "while True:\n",
    "\n",
    "    # Make an update every few blocks\n",
    "    if poolchain.block % sync_every_n_blocks:\n",
    "\n",
    "        # Set your weights onto the pool chain.\n",
    "        poolchain.set_weights(\n",
    "            wallet = poolwallet,\n",
    "            uids = poolgraph.uids,\n",
    "            weights = poolscores,\n",
    "            wait_for_finalization = True \n",
    "        )\n",
    "\n",
    "        # Get the latest nodes from your pool\n",
    "        poolgraph.sync( subtensor = poolchain )\n",
    "    else:\n",
    "        time.sleep( 12 )\n",
    "    \n",
    "\n"
   ]
  }
 ],
 "metadata": {
  "interpreter": {
   "hash": "b0fa6594d8f4cbf19f97940f81e996739fb7646882a419484c72d19e05852a7e"
  },
  "kernelspec": {
   "display_name": "Python 3.9.10 64-bit",
   "language": "python",
   "name": "python3"
  },
  "language_info": {
   "codemirror_mode": {
    "name": "ipython",
    "version": 3
   },
   "file_extension": ".py",
   "mimetype": "text/x-python",
   "name": "python",
   "nbconvert_exporter": "python",
   "pygments_lexer": "ipython3",
   "version": "3.9.10"
  },
  "orig_nbformat": 4
 },
 "nbformat": 4,
 "nbformat_minor": 2
}
